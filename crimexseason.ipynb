{
 "cells": [
  {
   "cell_type": "code",
   "execution_count": 54,
   "metadata": {},
   "outputs": [],
   "source": [
    "import os\n",
    "import csv\n",
    "import numpy as np\n",
    "from pathlib import Path\n",
    "import pandas as pd\n",
    "import matplotlib.pyplot as plt"
   ]
  },
  {
   "cell_type": "code",
   "execution_count": 55,
   "metadata": {},
   "outputs": [],
   "source": [
    "# read csv\n",
    "def make_df(path): \n",
    "    df = pd.read_csv(path)\n",
    "    return df"
   ]
  },
  {
   "cell_type": "code",
   "execution_count": 56,
   "metadata": {},
   "outputs": [
    {
     "name": "stderr",
     "output_type": "stream",
     "text": [
      "/var/folders/05/hqdn865j4plg9vq4vjst54t00000gn/T/ipykernel_1681/250420736.py:3: DtypeWarning: Columns (16) have mixed types. Specify dtype option on import or set low_memory=False.\n",
      "  starting_df = pd.read_csv(path)\n"
     ]
    },
    {
     "data": {
      "text/html": [
       "<div>\n",
       "<style scoped>\n",
       "    .dataframe tbody tr th:only-of-type {\n",
       "        vertical-align: middle;\n",
       "    }\n",
       "\n",
       "    .dataframe tbody tr th {\n",
       "        vertical-align: top;\n",
       "    }\n",
       "\n",
       "    .dataframe thead th {\n",
       "        text-align: right;\n",
       "    }\n",
       "</style>\n",
       "<table border=\"1\" class=\"dataframe\">\n",
       "  <thead>\n",
       "    <tr style=\"text-align: right;\">\n",
       "      <th></th>\n",
       "      <th>Incident Number</th>\n",
       "      <th>Highest Offense Description</th>\n",
       "      <th>Highest Offense Code</th>\n",
       "      <th>Family Violence</th>\n",
       "      <th>Occurred Date Time</th>\n",
       "      <th>Occurred Date</th>\n",
       "      <th>Occurred Time</th>\n",
       "      <th>Report Date Time</th>\n",
       "      <th>Report Date</th>\n",
       "      <th>Report Time</th>\n",
       "      <th>...</th>\n",
       "      <th>Census Tract</th>\n",
       "      <th>Clearance Status</th>\n",
       "      <th>Clearance Date</th>\n",
       "      <th>UCR Category</th>\n",
       "      <th>Category Description</th>\n",
       "      <th>X-coordinate</th>\n",
       "      <th>Y-coordinate</th>\n",
       "      <th>Latitude</th>\n",
       "      <th>Longitude</th>\n",
       "      <th>Location</th>\n",
       "    </tr>\n",
       "  </thead>\n",
       "  <tbody>\n",
       "    <tr>\n",
       "      <th>0</th>\n",
       "      <td>2006471156</td>\n",
       "      <td>FAMILY DISTURBANCE</td>\n",
       "      <td>3400</td>\n",
       "      <td>N</td>\n",
       "      <td>02/16/2006 02:25:00 PM</td>\n",
       "      <td>02/16/2006</td>\n",
       "      <td>1425.0</td>\n",
       "      <td>02/16/2006 02:25:00 PM</td>\n",
       "      <td>02/16/2006</td>\n",
       "      <td>1425.0</td>\n",
       "      <td>...</td>\n",
       "      <td>NaN</td>\n",
       "      <td>NaN</td>\n",
       "      <td>NaN</td>\n",
       "      <td>NaN</td>\n",
       "      <td>NaN</td>\n",
       "      <td>NaN</td>\n",
       "      <td>NaN</td>\n",
       "      <td>NaN</td>\n",
       "      <td>NaN</td>\n",
       "      <td>NaN</td>\n",
       "    </tr>\n",
       "    <tr>\n",
       "      <th>1</th>\n",
       "      <td>20045044338</td>\n",
       "      <td>TAMPERING WITH ID NUMBER</td>\n",
       "      <td>2719</td>\n",
       "      <td>N</td>\n",
       "      <td>09/14/2004 03:32:00 PM</td>\n",
       "      <td>09/14/2004</td>\n",
       "      <td>1532.0</td>\n",
       "      <td>09/14/2004 03:32:00 PM</td>\n",
       "      <td>09/14/2004</td>\n",
       "      <td>1532.0</td>\n",
       "      <td>...</td>\n",
       "      <td>NaN</td>\n",
       "      <td>N</td>\n",
       "      <td>09/14/2004</td>\n",
       "      <td>NaN</td>\n",
       "      <td>NaN</td>\n",
       "      <td>NaN</td>\n",
       "      <td>NaN</td>\n",
       "      <td>NaN</td>\n",
       "      <td>NaN</td>\n",
       "      <td>NaN</td>\n",
       "    </tr>\n",
       "    <tr>\n",
       "      <th>2</th>\n",
       "      <td>2006960811</td>\n",
       "      <td>FAMILY DISTURBANCE</td>\n",
       "      <td>3400</td>\n",
       "      <td>N</td>\n",
       "      <td>04/06/2006 10:29:00 AM</td>\n",
       "      <td>04/06/2006</td>\n",
       "      <td>1029.0</td>\n",
       "      <td>04/06/2006 10:29:00 AM</td>\n",
       "      <td>04/06/2006</td>\n",
       "      <td>1029.0</td>\n",
       "      <td>...</td>\n",
       "      <td>NaN</td>\n",
       "      <td>N</td>\n",
       "      <td>05/01/2006</td>\n",
       "      <td>NaN</td>\n",
       "      <td>NaN</td>\n",
       "      <td>NaN</td>\n",
       "      <td>NaN</td>\n",
       "      <td>NaN</td>\n",
       "      <td>NaN</td>\n",
       "      <td>NaN</td>\n",
       "    </tr>\n",
       "    <tr>\n",
       "      <th>3</th>\n",
       "      <td>2013851154</td>\n",
       "      <td>SEXUAL ASSAULT OF CHILD/OBJECT</td>\n",
       "      <td>1707</td>\n",
       "      <td>Y</td>\n",
       "      <td>01/01/2009 12:01:00 AM</td>\n",
       "      <td>01/01/2009</td>\n",
       "      <td>1.0</td>\n",
       "      <td>03/26/2013 04:56:00 PM</td>\n",
       "      <td>03/26/2013</td>\n",
       "      <td>1656.0</td>\n",
       "      <td>...</td>\n",
       "      <td>4.00</td>\n",
       "      <td>C</td>\n",
       "      <td>04/11/2013</td>\n",
       "      <td>11C</td>\n",
       "      <td>Rape</td>\n",
       "      <td>0.0</td>\n",
       "      <td>0.0</td>\n",
       "      <td>NaN</td>\n",
       "      <td>NaN</td>\n",
       "      <td>NaN</td>\n",
       "    </tr>\n",
       "    <tr>\n",
       "      <th>4</th>\n",
       "      <td>20161800084</td>\n",
       "      <td>RAPE OF A CHILD</td>\n",
       "      <td>204</td>\n",
       "      <td>Y</td>\n",
       "      <td>06/28/2016 01:05:00 AM</td>\n",
       "      <td>06/28/2016</td>\n",
       "      <td>105.0</td>\n",
       "      <td>06/28/2016 01:05:00 AM</td>\n",
       "      <td>06/28/2016</td>\n",
       "      <td>105.0</td>\n",
       "      <td>...</td>\n",
       "      <td>24.41</td>\n",
       "      <td>C</td>\n",
       "      <td>07/01/2016</td>\n",
       "      <td>11A</td>\n",
       "      <td>Rape</td>\n",
       "      <td>0.0</td>\n",
       "      <td>0.0</td>\n",
       "      <td>NaN</td>\n",
       "      <td>NaN</td>\n",
       "      <td>NaN</td>\n",
       "    </tr>\n",
       "  </tbody>\n",
       "</table>\n",
       "<p>5 rows × 27 columns</p>\n",
       "</div>"
      ],
      "text/plain": [
       "   Incident Number     Highest Offense Description  Highest Offense Code  \\\n",
       "0       2006471156              FAMILY DISTURBANCE                  3400   \n",
       "1      20045044338        TAMPERING WITH ID NUMBER                  2719   \n",
       "2       2006960811              FAMILY DISTURBANCE                  3400   \n",
       "3       2013851154  SEXUAL ASSAULT OF CHILD/OBJECT                  1707   \n",
       "4      20161800084                 RAPE OF A CHILD                   204   \n",
       "\n",
       "  Family Violence      Occurred Date Time Occurred Date  Occurred Time  \\\n",
       "0               N  02/16/2006 02:25:00 PM    02/16/2006         1425.0   \n",
       "1               N  09/14/2004 03:32:00 PM    09/14/2004         1532.0   \n",
       "2               N  04/06/2006 10:29:00 AM    04/06/2006         1029.0   \n",
       "3               Y  01/01/2009 12:01:00 AM    01/01/2009            1.0   \n",
       "4               Y  06/28/2016 01:05:00 AM    06/28/2016          105.0   \n",
       "\n",
       "         Report Date Time Report Date  Report Time  ... Census Tract  \\\n",
       "0  02/16/2006 02:25:00 PM  02/16/2006       1425.0  ...          NaN   \n",
       "1  09/14/2004 03:32:00 PM  09/14/2004       1532.0  ...          NaN   \n",
       "2  04/06/2006 10:29:00 AM  04/06/2006       1029.0  ...          NaN   \n",
       "3  03/26/2013 04:56:00 PM  03/26/2013       1656.0  ...         4.00   \n",
       "4  06/28/2016 01:05:00 AM  06/28/2016        105.0  ...        24.41   \n",
       "\n",
       "  Clearance Status  Clearance Date  UCR Category Category Description  \\\n",
       "0              NaN             NaN           NaN                  NaN   \n",
       "1                N      09/14/2004           NaN                  NaN   \n",
       "2                N      05/01/2006           NaN                  NaN   \n",
       "3                C      04/11/2013           11C                 Rape   \n",
       "4                C      07/01/2016           11A                 Rape   \n",
       "\n",
       "  X-coordinate Y-coordinate  Latitude Longitude Location  \n",
       "0          NaN          NaN       NaN       NaN      NaN  \n",
       "1          NaN          NaN       NaN       NaN      NaN  \n",
       "2          NaN          NaN       NaN       NaN      NaN  \n",
       "3          0.0          0.0       NaN       NaN      NaN  \n",
       "4          0.0          0.0       NaN       NaN      NaN  \n",
       "\n",
       "[5 rows x 27 columns]"
      ]
     },
     "execution_count": 56,
     "metadata": {},
     "output_type": "execute_result"
    }
   ],
   "source": [
    "# analyze the general data\n",
    "path = Path(\"/Users/sarahdutton/Desktop/crime_report.csv\")\n",
    "starting_df = pd.read_csv(path)\n",
    "directory = os.path.dirname(path)\n",
    "starting_df.head()"
   ]
  },
  {
   "cell_type": "code",
   "execution_count": 57,
   "metadata": {},
   "outputs": [
    {
     "name": "stdout",
     "output_type": "stream",
     "text": [
      "The names of the columns are :\n",
      " ['Incident Number', 'Highest Offense Description', 'Highest Offense Code', 'Family Violence', 'Occurred Date Time', 'Occurred Date', 'Occurred Time', 'Report Date Time', 'Report Date', 'Report Time', 'Location Type', 'Address', 'Zip Code', 'Council District', 'APD Sector', 'APD District', 'PRA', 'Census Tract', 'Clearance Status', 'Clearance Date', 'UCR Category', 'Category Description', 'X-coordinate', 'Y-coordinate', 'Latitude', 'Longitude', 'Location']\n"
     ]
    }
   ],
   "source": [
    "# check columns\n",
    "print(\"The names of the columns are :\\n\", list(starting_df.columns))"
   ]
  },
  {
   "cell_type": "code",
   "execution_count": 58,
   "metadata": {},
   "outputs": [
    {
     "data": {
      "text/html": [
       "<div>\n",
       "<style scoped>\n",
       "    .dataframe tbody tr th:only-of-type {\n",
       "        vertical-align: middle;\n",
       "    }\n",
       "\n",
       "    .dataframe tbody tr th {\n",
       "        vertical-align: top;\n",
       "    }\n",
       "\n",
       "    .dataframe thead th {\n",
       "        text-align: right;\n",
       "    }\n",
       "</style>\n",
       "<table border=\"1\" class=\"dataframe\">\n",
       "  <thead>\n",
       "    <tr style=\"text-align: right;\">\n",
       "      <th></th>\n",
       "      <th>Incident Number</th>\n",
       "      <th>Highest Offense Description</th>\n",
       "      <th>Highest Offense Code</th>\n",
       "      <th>Family Violence</th>\n",
       "      <th>Occurred Date Time</th>\n",
       "      <th>Occurred Date</th>\n",
       "      <th>Occurred Time</th>\n",
       "      <th>Report Date</th>\n",
       "      <th>Category Description</th>\n",
       "    </tr>\n",
       "  </thead>\n",
       "  <tbody>\n",
       "    <tr>\n",
       "      <th>0</th>\n",
       "      <td>2006471156</td>\n",
       "      <td>FAMILY DISTURBANCE</td>\n",
       "      <td>3400</td>\n",
       "      <td>N</td>\n",
       "      <td>02/16/2006 02:25:00 PM</td>\n",
       "      <td>02/16/2006</td>\n",
       "      <td>1425.0</td>\n",
       "      <td>02/16/2006</td>\n",
       "      <td>NaN</td>\n",
       "    </tr>\n",
       "    <tr>\n",
       "      <th>1</th>\n",
       "      <td>20045044338</td>\n",
       "      <td>TAMPERING WITH ID NUMBER</td>\n",
       "      <td>2719</td>\n",
       "      <td>N</td>\n",
       "      <td>09/14/2004 03:32:00 PM</td>\n",
       "      <td>09/14/2004</td>\n",
       "      <td>1532.0</td>\n",
       "      <td>09/14/2004</td>\n",
       "      <td>NaN</td>\n",
       "    </tr>\n",
       "    <tr>\n",
       "      <th>2</th>\n",
       "      <td>2006960811</td>\n",
       "      <td>FAMILY DISTURBANCE</td>\n",
       "      <td>3400</td>\n",
       "      <td>N</td>\n",
       "      <td>04/06/2006 10:29:00 AM</td>\n",
       "      <td>04/06/2006</td>\n",
       "      <td>1029.0</td>\n",
       "      <td>04/06/2006</td>\n",
       "      <td>NaN</td>\n",
       "    </tr>\n",
       "    <tr>\n",
       "      <th>3</th>\n",
       "      <td>2013851154</td>\n",
       "      <td>SEXUAL ASSAULT OF CHILD/OBJECT</td>\n",
       "      <td>1707</td>\n",
       "      <td>Y</td>\n",
       "      <td>01/01/2009 12:01:00 AM</td>\n",
       "      <td>01/01/2009</td>\n",
       "      <td>1.0</td>\n",
       "      <td>03/26/2013</td>\n",
       "      <td>Rape</td>\n",
       "    </tr>\n",
       "    <tr>\n",
       "      <th>4</th>\n",
       "      <td>20161800084</td>\n",
       "      <td>RAPE OF A CHILD</td>\n",
       "      <td>204</td>\n",
       "      <td>Y</td>\n",
       "      <td>06/28/2016 01:05:00 AM</td>\n",
       "      <td>06/28/2016</td>\n",
       "      <td>105.0</td>\n",
       "      <td>06/28/2016</td>\n",
       "      <td>Rape</td>\n",
       "    </tr>\n",
       "  </tbody>\n",
       "</table>\n",
       "</div>"
      ],
      "text/plain": [
       "   Incident Number     Highest Offense Description  Highest Offense Code  \\\n",
       "0       2006471156              FAMILY DISTURBANCE                  3400   \n",
       "1      20045044338        TAMPERING WITH ID NUMBER                  2719   \n",
       "2       2006960811              FAMILY DISTURBANCE                  3400   \n",
       "3       2013851154  SEXUAL ASSAULT OF CHILD/OBJECT                  1707   \n",
       "4      20161800084                 RAPE OF A CHILD                   204   \n",
       "\n",
       "  Family Violence      Occurred Date Time Occurred Date  Occurred Time  \\\n",
       "0               N  02/16/2006 02:25:00 PM    02/16/2006         1425.0   \n",
       "1               N  09/14/2004 03:32:00 PM    09/14/2004         1532.0   \n",
       "2               N  04/06/2006 10:29:00 AM    04/06/2006         1029.0   \n",
       "3               Y  01/01/2009 12:01:00 AM    01/01/2009            1.0   \n",
       "4               Y  06/28/2016 01:05:00 AM    06/28/2016          105.0   \n",
       "\n",
       "  Report Date Category Description  \n",
       "0  02/16/2006                  NaN  \n",
       "1  09/14/2004                  NaN  \n",
       "2  04/06/2006                  NaN  \n",
       "3  03/26/2013                 Rape  \n",
       "4  06/28/2016                 Rape  "
      ]
     },
     "execution_count": 58,
     "metadata": {},
     "output_type": "execute_result"
    }
   ],
   "source": [
    "# reduce the data to the columns of focus\n",
    "reduced_starting = starting_df.loc[:, [\"Incident Number\", \"Highest Offense Description\", \"Highest Offense Code\", \"Family Violence\", 'Occurred Date Time',\n",
    "       'Occurred Date', 'Occurred Time', \"Report Date\", \"Category Description\"]]\n",
    "reduced_starting.head()"
   ]
  },
  {
   "cell_type": "code",
   "execution_count": 59,
   "metadata": {},
   "outputs": [
    {
     "name": "stdout",
     "output_type": "stream",
     "text": [
      "Number of Missing Values in the whole dataset :  1559923\n"
     ]
    }
   ],
   "source": [
    "# Missing Values \n",
    "print(\"Number of Missing Values in the whole dataset : \", reduced_starting.isna().sum().sum())"
   ]
  },
  {
   "cell_type": "code",
   "execution_count": 60,
   "metadata": {},
   "outputs": [
    {
     "name": "stdout",
     "output_type": "stream",
     "text": [
      "Number of Missing Values per feature >>\n"
     ]
    },
    {
     "data": {
      "text/html": [
       "<div>\n",
       "<style scoped>\n",
       "    .dataframe tbody tr th:only-of-type {\n",
       "        vertical-align: middle;\n",
       "    }\n",
       "\n",
       "    .dataframe tbody tr th {\n",
       "        vertical-align: top;\n",
       "    }\n",
       "\n",
       "    .dataframe thead th {\n",
       "        text-align: right;\n",
       "    }\n",
       "</style>\n",
       "<table border=\"1\" class=\"dataframe\">\n",
       "  <thead>\n",
       "    <tr style=\"text-align: right;\">\n",
       "      <th></th>\n",
       "      <th>Others</th>\n",
       "      <th>Occurred Date Time</th>\n",
       "      <th>Occurred Time</th>\n",
       "      <th>Category Description</th>\n",
       "    </tr>\n",
       "  </thead>\n",
       "  <tbody>\n",
       "    <tr>\n",
       "      <th>Missing Values</th>\n",
       "      <td>0</td>\n",
       "      <td>137</td>\n",
       "      <td>60</td>\n",
       "      <td>1559726</td>\n",
       "    </tr>\n",
       "  </tbody>\n",
       "</table>\n",
       "</div>"
      ],
      "text/plain": [
       "                Others  Occurred Date Time  Occurred Time  \\\n",
       "Missing Values       0                 137             60   \n",
       "\n",
       "                Category Description  \n",
       "Missing Values               1559726  "
      ]
     },
     "execution_count": 60,
     "metadata": {},
     "output_type": "execute_result"
    }
   ],
   "source": [
    "# Let's count number of null entries per feature\n",
    "missing_values = list(reduced_starting.isna().sum())\n",
    "# missing values is a list of the number of missing values in each column\n",
    "\n",
    "cols = list(reduced_starting.columns)\n",
    "col_final = []\n",
    "for i in range(len(cols)):\n",
    "    if (missing_values[i] == 0):\n",
    "        cols[i]=\"Others\"\n",
    "d = dict(zip(cols, missing_values)) # making a dicionary for the missing values\n",
    "\n",
    "print(\"Number of Missing Values per feature >>\")\n",
    "missing_vals = pd.DataFrame(d, index=[\"Missing Values\"]) # Making a custom dataframe from dict d\n",
    "missing_vals.head()"
   ]
  },
  {
   "cell_type": "code",
   "execution_count": 61,
   "metadata": {},
   "outputs": [],
   "source": [
    "# link columns to create a series\n",
    "date_crime = pd.concat([starting_df['Occurred Date'], starting_df['Highest Offense Description']], axis=1)"
   ]
  },
  {
   "cell_type": "code",
   "execution_count": 62,
   "metadata": {},
   "outputs": [],
   "source": [
    "crimes = date_crime['Highest Offense Description'].unique()"
   ]
  },
  {
   "cell_type": "code",
   "execution_count": 63,
   "metadata": {},
   "outputs": [],
   "source": [
    "# find theft crimes\n",
    "filtered_theft_crime = date_crime[date_crime['Highest Offense Description'].str.contains('theft', case=False)]"
   ]
  },
  {
   "cell_type": "code",
   "execution_count": 64,
   "metadata": {},
   "outputs": [],
   "source": [
    "# find bulglary crimes\n",
    "filtered_burgl_crime = date_crime[date_crime['Highest Offense Description'].str.contains('burglary', case=False)]"
   ]
  },
  {
   "cell_type": "code",
   "execution_count": 65,
   "metadata": {},
   "outputs": [],
   "source": [
    "# link theft and bulglary crimes\n",
    "all_theft_crimes = pd.concat([filtered_theft_crime, filtered_burgl_crime], ignore_index=True)"
   ]
  },
  {
   "cell_type": "code",
   "execution_count": 66,
   "metadata": {},
   "outputs": [],
   "source": [
    "# find all theft crimes to prepare to organize by season\n",
    "all_theft_crimes['Occurred Date'] = pd.to_datetime(all_theft_crimes['Occurred Date'], format='mixed')"
   ]
  },
  {
   "cell_type": "code",
   "execution_count": 67,
   "metadata": {},
   "outputs": [],
   "source": [
    "# organize theft by season\n",
    "all_theft_crimes['Season'] = pd.cut(\n",
    "    all_theft_crimes['Occurred Date'].dt.dayofyear,\n",
    "    bins= [0, 79, 171, 264, 355, 365],\n",
    "    labels=['Winter', 'Spring', 'Summer', 'Fall', 'Winter'],\n",
    "    ordered=False)"
   ]
  },
  {
   "cell_type": "code",
   "execution_count": 68,
   "metadata": {},
   "outputs": [],
   "source": [
    "# drop the date column\n",
    "season_theft_crimes = all_theft_crimes.drop(columns=['Occurred Date'])"
   ]
  },
  {
   "cell_type": "code",
   "execution_count": 69,
   "metadata": {},
   "outputs": [
    {
     "data": {
      "text/html": [
       "<div>\n",
       "<style scoped>\n",
       "    .dataframe tbody tr th:only-of-type {\n",
       "        vertical-align: middle;\n",
       "    }\n",
       "\n",
       "    .dataframe tbody tr th {\n",
       "        vertical-align: top;\n",
       "    }\n",
       "\n",
       "    .dataframe thead th {\n",
       "        text-align: right;\n",
       "    }\n",
       "</style>\n",
       "<table border=\"1\" class=\"dataframe\">\n",
       "  <thead>\n",
       "    <tr style=\"text-align: right;\">\n",
       "      <th></th>\n",
       "      <th>Occurred Date</th>\n",
       "      <th>Highest Offense Description</th>\n",
       "      <th>Season</th>\n",
       "    </tr>\n",
       "  </thead>\n",
       "  <tbody>\n",
       "    <tr>\n",
       "      <th>0</th>\n",
       "      <td>2021-04-08</td>\n",
       "      <td>IDENTITY THEFT</td>\n",
       "      <td>Spring</td>\n",
       "    </tr>\n",
       "    <tr>\n",
       "      <th>1</th>\n",
       "      <td>2004-01-02</td>\n",
       "      <td>THEFT</td>\n",
       "      <td>Winter</td>\n",
       "    </tr>\n",
       "    <tr>\n",
       "      <th>2</th>\n",
       "      <td>2009-07-29</td>\n",
       "      <td>IDENTITY THEFT</td>\n",
       "      <td>Summer</td>\n",
       "    </tr>\n",
       "    <tr>\n",
       "      <th>3</th>\n",
       "      <td>2017-09-23</td>\n",
       "      <td>THEFT FROM PERSON</td>\n",
       "      <td>Fall</td>\n",
       "    </tr>\n",
       "    <tr>\n",
       "      <th>4</th>\n",
       "      <td>2010-12-24</td>\n",
       "      <td>IDENTITY THEFT</td>\n",
       "      <td>Winter</td>\n",
       "    </tr>\n",
       "  </tbody>\n",
       "</table>\n",
       "</div>"
      ],
      "text/plain": [
       "  Occurred Date Highest Offense Description  Season\n",
       "0    2021-04-08              IDENTITY THEFT  Spring\n",
       "1    2004-01-02                       THEFT  Winter\n",
       "2    2009-07-29              IDENTITY THEFT  Summer\n",
       "3    2017-09-23           THEFT FROM PERSON    Fall\n",
       "4    2010-12-24              IDENTITY THEFT  Winter"
      ]
     },
     "execution_count": 69,
     "metadata": {},
     "output_type": "execute_result"
    }
   ],
   "source": [
    "all_theft_crimes.head()"
   ]
  },
  {
   "cell_type": "code",
   "execution_count": 70,
   "metadata": {},
   "outputs": [
    {
     "data": {
      "text/html": [
       "<div>\n",
       "<style scoped>\n",
       "    .dataframe tbody tr th:only-of-type {\n",
       "        vertical-align: middle;\n",
       "    }\n",
       "\n",
       "    .dataframe tbody tr th {\n",
       "        vertical-align: top;\n",
       "    }\n",
       "\n",
       "    .dataframe thead th {\n",
       "        text-align: right;\n",
       "    }\n",
       "</style>\n",
       "<table border=\"1\" class=\"dataframe\">\n",
       "  <thead>\n",
       "    <tr style=\"text-align: right;\">\n",
       "      <th></th>\n",
       "      <th>Season</th>\n",
       "    </tr>\n",
       "    <tr>\n",
       "      <th>Highest Offense Description</th>\n",
       "      <th></th>\n",
       "    </tr>\n",
       "  </thead>\n",
       "  <tbody>\n",
       "    <tr>\n",
       "      <th>ATT AUTO THEFT</th>\n",
       "      <td>307</td>\n",
       "    </tr>\n",
       "    <tr>\n",
       "      <th>ATT BURGLARY NON RESIDENCE</th>\n",
       "      <td>156</td>\n",
       "    </tr>\n",
       "    <tr>\n",
       "      <th>ATT BURGLARY OF RESIDENCE</th>\n",
       "      <td>457</td>\n",
       "    </tr>\n",
       "    <tr>\n",
       "      <th>ATT THEFT</th>\n",
       "      <td>206</td>\n",
       "    </tr>\n",
       "    <tr>\n",
       "      <th>AUTO THEFT</th>\n",
       "      <td>62113</td>\n",
       "    </tr>\n",
       "  </tbody>\n",
       "</table>\n",
       "</div>"
      ],
      "text/plain": [
       "                             Season\n",
       "Highest Offense Description        \n",
       "ATT AUTO THEFT                  307\n",
       "ATT BURGLARY NON RESIDENCE      156\n",
       "ATT BURGLARY OF RESIDENCE       457\n",
       "ATT THEFT                       206\n",
       "AUTO THEFT                    62113"
      ]
     },
     "execution_count": 70,
     "metadata": {},
     "output_type": "execute_result"
    }
   ],
   "source": [
    "season_theft_crimes_count = season_theft_crimes.groupby('Highest Offense Description').count()\n",
    "season_theft_crimes_count.head()"
   ]
  },
  {
   "cell_type": "code",
   "execution_count": 97,
   "metadata": {},
   "outputs": [
    {
     "name": "stdout",
     "output_type": "stream",
     "text": [
      "Highest Offense Description\n",
      "BURGLARY OF VEHICLE      255338\n",
      "THEFT                    230215\n",
      "BURGLARY OF RESIDENCE     82257\n",
      "AUTO THEFT                62144\n",
      "THEFT BY SHOPLIFTING      54716\n",
      "Name: count, dtype: int64\n"
     ]
    }
   ],
   "source": [
    "value_counts = season_theft_crimes['Highest Offense Description'].value_counts().sort_values(ascending=False).head()\n",
    "\n",
    "# Print the value counts\n",
    "print(value_counts)"
   ]
  },
  {
   "cell_type": "code",
   "execution_count": 72,
   "metadata": {},
   "outputs": [],
   "source": [
    "series = pd.Series(value_counts)"
   ]
  },
  {
   "cell_type": "code",
   "execution_count": 103,
   "metadata": {},
   "outputs": [
    {
     "data": {
      "image/png": "[encoded data removed]",
      "text/plain": [
       "<Figure size 1000x1000 with 1 Axes>"
      ]
     },
     "metadata": {},
     "output_type": "display_data"
    }
   ],
   "source": [
    "# Transpose (swap rows and columns)\n",
    "transposed_data = value_counts.transpose()\n",
    "\n",
    "\n",
    "# Create the bar chart\n",
    "plt.figure(figsize=(10, 10))  \n",
    "transposed_data.plot(kind='bar', color='red')  \n",
    "\n",
    "# Rotate x-axis labels for better readability\n",
    "plt.xticks(rotation=45) \n",
    "\n",
    "# Add labels and title \n",
    "plt.xlabel('Type of Theft')  \n",
    "plt.ylabel('Occurances')\n",
    "plt.title('Highest Reported Types of Theft for the Last 20 Years')\n",
    "\n",
    "plt.grid(axis='y', linestyle='--', alpha=0.6)  # Add dashed grid lines on y-axis\n",
    "\n",
    "# Display the chart\n",
    "plt.show()"
   ]
  },
  {
   "cell_type": "code",
   "execution_count": 75,
   "metadata": {},
   "outputs": [],
   "source": [
    "season_theft_crimes_res = season_theft_crimes[season_theft_crimes['Highest Offense Description'] == 'BURGLARY OF RESIDENCE']"
   ]
  },
  {
   "cell_type": "code",
   "execution_count": 76,
   "metadata": {},
   "outputs": [
    {
     "data": {
      "text/html": [
       "<div>\n",
       "<style scoped>\n",
       "    .dataframe tbody tr th:only-of-type {\n",
       "        vertical-align: middle;\n",
       "    }\n",
       "\n",
       "    .dataframe tbody tr th {\n",
       "        vertical-align: top;\n",
       "    }\n",
       "\n",
       "    .dataframe thead th {\n",
       "        text-align: right;\n",
       "    }\n",
       "</style>\n",
       "<table border=\"1\" class=\"dataframe\">\n",
       "  <thead>\n",
       "    <tr style=\"text-align: right;\">\n",
       "      <th></th>\n",
       "      <th>Highest Offense Description</th>\n",
       "      <th>Season</th>\n",
       "    </tr>\n",
       "  </thead>\n",
       "  <tbody>\n",
       "    <tr>\n",
       "      <th>476823</th>\n",
       "      <td>BURGLARY OF RESIDENCE</td>\n",
       "      <td>Summer</td>\n",
       "    </tr>\n",
       "    <tr>\n",
       "      <th>476825</th>\n",
       "      <td>BURGLARY OF RESIDENCE</td>\n",
       "      <td>Fall</td>\n",
       "    </tr>\n",
       "    <tr>\n",
       "      <th>476826</th>\n",
       "      <td>BURGLARY OF RESIDENCE</td>\n",
       "      <td>Fall</td>\n",
       "    </tr>\n",
       "    <tr>\n",
       "      <th>476827</th>\n",
       "      <td>BURGLARY OF RESIDENCE</td>\n",
       "      <td>Summer</td>\n",
       "    </tr>\n",
       "    <tr>\n",
       "      <th>476829</th>\n",
       "      <td>BURGLARY OF RESIDENCE</td>\n",
       "      <td>Summer</td>\n",
       "    </tr>\n",
       "  </tbody>\n",
       "</table>\n",
       "</div>"
      ],
      "text/plain": [
       "       Highest Offense Description  Season\n",
       "476823       BURGLARY OF RESIDENCE  Summer\n",
       "476825       BURGLARY OF RESIDENCE    Fall\n",
       "476826       BURGLARY OF RESIDENCE    Fall\n",
       "476827       BURGLARY OF RESIDENCE  Summer\n",
       "476829       BURGLARY OF RESIDENCE  Summer"
      ]
     },
     "execution_count": 76,
     "metadata": {},
     "output_type": "execute_result"
    }
   ],
   "source": [
    "season_theft_crimes_res.head()"
   ]
  },
  {
   "cell_type": "code",
   "execution_count": 77,
   "metadata": {},
   "outputs": [],
   "source": [
    "season_theft_crimes_res.index.name = 'Index'"
   ]
  },
  {
   "cell_type": "code",
   "execution_count": 78,
   "metadata": {},
   "outputs": [
    {
     "name": "stderr",
     "output_type": "stream",
     "text": [
      "/var/folders/05/hqdn865j4plg9vq4vjst54t00000gn/T/ipykernel_1681/2479529178.py:1: FutureWarning: The default of observed=False is deprecated and will be changed to True in a future version of pandas. Pass observed=False to retain current behavior or observed=True to adopt the future default and silence this warning.\n",
      "  season_theft_crimes_res_gb = season_theft_crimes_res.groupby('Season')['Highest Offense Description'].count()\n"
     ]
    },
    {
     "data": {
      "text/plain": [
       "Season\n",
       "Fall      21537\n",
       "Spring    20992\n",
       "Summer    20426\n",
       "Winter    19240\n",
       "Name: Highest Offense Description, dtype: int64"
      ]
     },
     "execution_count": 78,
     "metadata": {},
     "output_type": "execute_result"
    }
   ],
   "source": [
    "season_theft_crimes_res_gb = season_theft_crimes_res.groupby('Season')['Highest Offense Description'].count()\n",
    "season_theft_crimes_res_gb"
   ]
  },
  {
   "cell_type": "code",
   "execution_count": 79,
   "metadata": {},
   "outputs": [
    {
     "data": {
      "text/plain": [
       "Text(0, 0.5, 'Occurrances')"
      ]
     },
     "execution_count": 79,
     "metadata": {},
     "output_type": "execute_result"
    },
    {
     "data": {
      "image/png": "[encoded data removed]",
      "text/plain": [
       "<Figure size 640x480 with 1 Axes>"
      ]
     },
     "metadata": {},
     "output_type": "display_data"
    }
   ],
   "source": [
    "Seasons = [\"Fall\", \"Spring\", \"Summer\", \"Winter\"]\n",
    "Occurrances = [21537, 20813, 20426, 19239]\n",
    "plt.bar(Seasons, Occurrances)\n",
    "\n",
    "# Set chart title and labels\n",
    "plt.title('No. of Residential Burglaries by Season 2003 - 2023')\n",
    "plt.xlabel('Seasons')\n",
    "plt.ylabel('Occurrances')"
   ]
  },
  {
   "cell_type": "code",
   "execution_count": 80,
   "metadata": {},
   "outputs": [],
   "source": [
    "season_theft_crimes_shoplift = season_theft_crimes[season_theft_crimes['Highest Offense Description'] == 'THEFT BY SHOPLIFTING']"
   ]
  },
  {
   "cell_type": "code",
   "execution_count": 81,
   "metadata": {},
   "outputs": [
    {
     "name": "stderr",
     "output_type": "stream",
     "text": [
      "/var/folders/05/hqdn865j4plg9vq4vjst54t00000gn/T/ipykernel_1681/1970120593.py:1: FutureWarning: The default of observed=False is deprecated and will be changed to True in a future version of pandas. Pass observed=False to retain current behavior or observed=True to adopt the future default and silence this warning.\n",
      "  season_theft_crimes_shoplift_group = season_theft_crimes_shoplift.groupby('Season')['Highest Offense Description'].count()\n"
     ]
    },
    {
     "data": {
      "text/plain": [
       "Season\n",
       "Fall      13274\n",
       "Spring    13880\n",
       "Summer    13793\n",
       "Winter    13741\n",
       "Name: Highest Offense Description, dtype: int64"
      ]
     },
     "execution_count": 81,
     "metadata": {},
     "output_type": "execute_result"
    }
   ],
   "source": [
    "season_theft_crimes_shoplift_group = season_theft_crimes_shoplift.groupby('Season')['Highest Offense Description'].count()\n",
    "season_theft_crimes_shoplift_group"
   ]
  },
  {
   "cell_type": "code",
   "execution_count": 82,
   "metadata": {},
   "outputs": [
    {
     "data": {
      "text/plain": [
       "Text(0, 0.5, 'Incidences')"
      ]
     },
     "execution_count": 82,
     "metadata": {},
     "output_type": "execute_result"
    },
    {
     "data": {
      "image/png": "[encoded data removed]",
      "text/plain": [
       "<Figure size 640x480 with 1 Axes>"
      ]
     },
     "metadata": {},
     "output_type": "display_data"
    }
   ],
   "source": [
    "Seasons = [\"Fall\", \"Spring\", \"Summer\", \"Winter\"]\n",
    "Occurrances = [13273, 13554, 13791, 13730]\n",
    "Colors = ['pink']\n",
    "plt.bar(Seasons, Occurrances, color=Colors)\n",
    "\n",
    "# Set chart title and labels\n",
    "plt.title('No. of Reported Shoplift Incidences by Season 2003 - 2023')\n",
    "plt.xlabel('Seasons')\n",
    "plt.ylabel('Incidences')"
   ]
  },
  {
   "cell_type": "code",
   "execution_count": 83,
   "metadata": {},
   "outputs": [
    {
     "name": "stdout",
     "output_type": "stream",
     "text": [
      "82257\n"
     ]
    }
   ],
   "source": [
    "num_rows_theft_rs = len(season_theft_crimes_res)\n",
    "print(num_rows_theft_rs) "
   ]
  },
  {
   "cell_type": "code",
   "execution_count": 84,
   "metadata": {},
   "outputs": [
    {
     "name": "stdout",
     "output_type": "stream",
     "text": [
      "54716\n"
     ]
    }
   ],
   "source": [
    "num_rows_shoplift = len(season_theft_crimes_shoplift)\n",
    "print(num_rows_shoplift)  "
   ]
  },
  {
   "cell_type": "code",
   "execution_count": 85,
   "metadata": {},
   "outputs": [],
   "source": [
    "season_theft_crimes_BICYCLE = season_theft_crimes[season_theft_crimes['Highest Offense Description'] == 'THEFT OF BICYCLE']"
   ]
  },
  {
   "cell_type": "code",
   "execution_count": 86,
   "metadata": {},
   "outputs": [
    {
     "name": "stderr",
     "output_type": "stream",
     "text": [
      "/var/folders/05/hqdn865j4plg9vq4vjst54t00000gn/T/ipykernel_1681/689256341.py:1: FutureWarning: The default of observed=False is deprecated and will be changed to True in a future version of pandas. Pass observed=False to retain current behavior or observed=True to adopt the future default and silence this warning.\n",
      "  season_theft_crimes_BICYCLE_gb = season_theft_crimes_BICYCLE.groupby('Season')['Highest Offense Description'].count()\n"
     ]
    }
   ],
   "source": [
    "season_theft_crimes_BICYCLE_gb = season_theft_crimes_BICYCLE.groupby('Season')['Highest Offense Description'].count()"
   ]
  },
  {
   "cell_type": "code",
   "execution_count": 88,
   "metadata": {},
   "outputs": [
    {
     "data": {
      "text/plain": [
       "Text(0, 0.5, 'Incidences')"
      ]
     },
     "execution_count": 88,
     "metadata": {},
     "output_type": "execute_result"
    },
    {
     "data": {
      "image/png": "[encoded data removed]",
      "text/plain": [
       "<Figure size 640x480 with 1 Axes>"
      ]
     },
     "metadata": {},
     "output_type": "display_data"
    }
   ],
   "source": [
    "Seasons = [\"Fall\", \"Spring\", \"Summer\", \"Winter\"]\n",
    "Occurrances = [6284, 6039, 6789, 5072]\n",
    "Colors = ['orange']\n",
    "plt.bar(Seasons, Occurrances, color=Colors)\n",
    "\n",
    "# Set chart title and labels\n",
    "plt.title('No. of Bicycle Thefts Reported by Season 2003 - 2023')\n",
    "plt.xlabel('Seasons')\n",
    "plt.ylabel('Incidences')"
   ]
  },
  {
   "cell_type": "code",
   "execution_count": 89,
   "metadata": {},
   "outputs": [],
   "source": [
    "season_theft_crimes_IDENTITY = season_theft_crimes[season_theft_crimes['Highest Offense Description'] == 'IDENTITY THEFT']"
   ]
  },
  {
   "cell_type": "code",
   "execution_count": 90,
   "metadata": {},
   "outputs": [
    {
     "name": "stderr",
     "output_type": "stream",
     "text": [
      "/var/folders/05/hqdn865j4plg9vq4vjst54t00000gn/T/ipykernel_1681/3995279694.py:1: FutureWarning: The default of observed=False is deprecated and will be changed to True in a future version of pandas. Pass observed=False to retain current behavior or observed=True to adopt the future default and silence this warning.\n",
      "  season_theft_crimes_IDENTITY_gb = season_theft_crimes_IDENTITY.groupby('Season')['Highest Offense Description'].count()\n"
     ]
    },
    {
     "data": {
      "text/plain": [
       "Season\n",
       "Fall      6391\n",
       "Spring    7758\n",
       "Summer    6503\n",
       "Winter    8230\n",
       "Name: Highest Offense Description, dtype: int64"
      ]
     },
     "execution_count": 90,
     "metadata": {},
     "output_type": "execute_result"
    }
   ],
   "source": [
    "season_theft_crimes_IDENTITY_gb = season_theft_crimes_IDENTITY.groupby('Season')['Highest Offense Description'].count()\n",
    "season_theft_crimes_IDENTITY_gb"
   ]
  },
  {
   "cell_type": "code",
   "execution_count": 91,
   "metadata": {},
   "outputs": [
    {
     "name": "stdout",
     "output_type": "stream",
     "text": [
      "Chi-Square Statistic: 164.89333824893055\n",
      "p-value: 1.6107138924223533e-35\n"
     ]
    }
   ],
   "source": [
    "#CHI SQUARE TEST FOR IDENTITY THEFT BY SEASON\n",
    "from scipy.stats import chi2_contingency\n",
    "\n",
    "\n",
    "# Your data from the identity theft by season chart\n",
    "data = np.array([6380, 7645, 6494, 8208])  # Fall, Spring, Summer, Winter\n",
    "\n",
    "# As we're dealing with one categorical group only, we need to generate expected frequencies assuming no effect of seasons\n",
    "total = data.sum()\n",
    "expected = np.full(shape=data.shape, fill_value=total / 4)\n",
    "\n",
    "# Chi-square test\n",
    "chi2, p_value = chi2_contingency([data, expected])[:2]\n",
    "\n",
    "print(f\"Chi-Square Statistic: {chi2}\")\n",
    "print(f\"p-value: {p_value}\")"
   ]
  },
  {
   "cell_type": "code",
   "execution_count": 92,
   "metadata": {},
   "outputs": [
    {
     "name": "stdout",
     "output_type": "stream",
     "text": [
      "Chi-Square Statistic: 0.0\n",
      "p-value: 1.0\n"
     ]
    }
   ],
   "source": [
    "#CHI SQUARE TEST NO. OF SHOPLIFT INCIDINCES\n",
    "\n",
    "\n",
    "# Assuming your data is already summarized by season\n",
    "data = {\n",
    "    'Season': ['Fall', 'Spring', 'Summer', 'Winter'],\n",
    "    'Shoplift Incidences': [13273, 13554, 13791, 13730]\n",
    "}\n",
    "\n",
    "# Convert to DataFrame\n",
    "df = pd.DataFrame(data)\n",
    "\n",
    "# Create a contingency table\n",
    "contingency_table = pd.crosstab(index=df['Season'], columns='count', values=df['Shoplift Incidences'], aggfunc='sum')\n",
    "\n",
    "# Perform the Chi-Square Test\n",
    "chi2, p, df, expected = chi2_contingency(contingency_table)\n",
    "\n",
    "print(f\"Chi-Square Statistic: {chi2}\")\n",
    "print(f\"p-value: {p}\")\n"
   ]
  },
  {
   "cell_type": "code",
   "execution_count": 93,
   "metadata": {},
   "outputs": [
    {
     "name": "stdout",
     "output_type": "stream",
     "text": [
      "Chi-Square Statistic: 68.10559048133163\n",
      "p-value: 1.0860061995797653e-14\n"
     ]
    }
   ],
   "source": [
    "# Observed frequencies of residential burglaries in each season\n",
    "data = np.array([21537, 20813, 20426, 19239])  # Fall, Spring, Summer, Winter\n",
    "\n",
    "# As we're dealing with one categorical group only, we need to generate expected frequencies assuming no effect of seasons\n",
    "total = data.sum()\n",
    "expected = np.full(shape=data.shape, fill_value=total / 4)\n",
    "\n",
    "# Performing the Chi-square test\n",
    "chi2, p_value = chi2_contingency([data, expected])[:2]\n",
    "\n",
    "print(f\"Chi-Square Statistic: {chi2}\")\n",
    "print(f\"p-value: {p_value}\")"
   ]
  },
  {
   "cell_type": "code",
   "execution_count": 94,
   "metadata": {},
   "outputs": [
    {
     "name": "stdout",
     "output_type": "stream",
     "text": [
      "Chi-Square Statistic: 132.9372089925216\n",
      "p-value: 1.259058803975753e-28\n"
     ]
    }
   ],
   "source": [
    "data = np.array([6284, 6039, 6789, 5072])  # Fall, Spring, Summer, Winter\n",
    "\n",
    "# Calculate the expected counts assuming no seasonal effect\n",
    "total = data.sum()\n",
    "expected = np.full(shape=data.shape, fill_value=total / 4)  # Equal distribution among seasons\n",
    "\n",
    "# Conducting the Chi-square test\n",
    "chi2, p_value, dof, expected = chi2_contingency([data, expected])\n",
    "\n",
    "print(f\"Chi-Square Statistic: {chi2}\")\n",
    "print(f\"p-value: {p_value}\")"
   ]
  },
  {
   "cell_type": "code",
   "execution_count": 95,
   "metadata": {},
   "outputs": [
    {
     "data": {
      "image/png": "[encoded data removed]",
      "text/plain": [
       "<Figure size 640x480 with 1 Axes>"
      ]
     },
     "metadata": {},
     "output_type": "display_data"
    }
   ],
   "source": [
    "# Filter data for the years 2003 to 2023\n",
    "filtered_years = all_theft_crimes[(all_theft_crimes['Occurred Date'].dt.year >= 2003) & (all_theft_crimes['Occurred Date'].dt.year <= 2023)]\n",
    "\n",
    "# Group by season and count occurrences\n",
    "season_counts = filtered_years.groupby('Season', observed=False).size()\n",
    "\n",
    "# Plot the data as a bar plot\n",
    "season_counts.plot(kind='bar')\n",
    "\n",
    "# Add labels and title\n",
    "plt.title('Total Number of Auto Theft from 2003 to 2023 for Each Season')\n",
    "plt.xlabel('Season')\n",
    "plt.ylabel('Number of Auto Theft')\n",
    "\n",
    "# Show the plot\n",
    "plt.show()"
   ]
  },
  {
   "cell_type": "code",
   "execution_count": 96,
   "metadata": {},
   "outputs": [
    {
     "name": "stdout",
     "output_type": "stream",
     "text": [
      "Chi-Square Statistic: 518.7774667282409\n",
      "p-value: 4.0660226006107926e-112\n"
     ]
    }
   ],
   "source": [
    "total = season_counts.sum()\n",
    "expected = np.full(shape=season_counts.shape, fill_value=total / 4)  # Equal distribution among seasons\n",
    "\n",
    "# Conducting the Chi-square test\n",
    "chi2, p_value, dof, expected = chi2_contingency([season_counts.values, expected])\n",
    "\n",
    "print(f\"Chi-Square Statistic: {chi2}\")\n",
    "print(f\"p-value: {p_value}\")\n",
    "\n",
    "# reject null hypothesis "
   ]
  },
  {
   "cell_type": "code",
   "execution_count": null,
   "metadata": {},
   "outputs": [],
   "source": []
  },
  {
   "cell_type": "code",
   "execution_count": null,
   "metadata": {},
   "outputs": [],
   "source": []
  }
 ],
 "metadata": {
  "kernelspec": {
   "display_name": "base",
   "language": "python",
   "name": "python3"
  },
  "language_info": {
   "codemirror_mode": {
    "name": "ipython",
    "version": 3
   },
   "file_extension": ".py",
   "mimetype": "text/x-python",
   "name": "python",
   "nbconvert_exporter": "python",
   "pygments_lexer": "ipython3",
   "version": "3.10.14"
  }
 },
 "nbformat": 4,
 "nbformat_minor": 2
}
